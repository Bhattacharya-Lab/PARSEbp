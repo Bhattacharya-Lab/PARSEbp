{
  "cells": [
    {
      "cell_type": "markdown",
      "id": "TDk1DyhrOq7b",
      "metadata": {
        "id": "TDk1DyhrOq7b"
      },
      "source": [
        "# 🧬 PARSEbp: Pairwise Agreement-based RNA Scoring with Emphasis on Base Pairings\n",
        "\n",
        "**Authors:** Sumit Tarafder and Debswapna Bhattacharya  \n",
        "Bhattacharya Lab, Virginia Tech\n",
        "\n",
        "---\n",
        "This notebook demonstrates how to install and use **PARSEbp**, a *Pairwise Agreement-based RNA Scoring* method emphasizing **base-pairing consistency** among RNA 3D decoys."
      ]
    },
    {
      "cell_type": "markdown",
      "id": "dCbQ02BrOq7c",
      "metadata": {
        "id": "dCbQ02BrOq7c"
      },
      "source": [
        "## ⚙️ Installation\n",
        "\n",
        "Typical installation time should be **less than a minute** on Colab or a 64-bit Linux environment.\n",
        "\n",
        "```bash\n",
        "!pip install PARSEbp\n",
        "```\n",
        "or install from source:\n",
        "```bash\n",
        "!git clone https://github.com/Bhattacharya-Lab/PARSEbp.git\n",
        "%cd PARSEbp\n",
        "!pip install .\n",
        "```"
      ]
    },
    {
      "cell_type": "code",
      "execution_count": null,
      "id": "zvIRPsWAPtv1",
      "metadata": {
        "id": "zvIRPsWAPtv1"
      },
      "outputs": [],
      "source": [
        "!pip install PARSEbp"
      ]
    },
    {
      "cell_type": "code",
      "execution_count": null,
      "id": "arWVFCx6O4OZ",
      "metadata": {
        "colab": {
          "base_uri": "https://localhost:8080/"
        },
        "id": "arWVFCx6O4OZ",
        "outputId": "498203ec-d78b-40f3-93e9-498f556713a2"
      },
      "outputs": [],
      "source": [
        "!git clone https://github.com/Bhattacharya-Lab/PARSEbp.git\n",
        "!pip install ."
      ]
    },
    {
      "cell_type": "markdown",
      "id": "lzKY_7viOq7d",
      "metadata": {
        "id": "lzKY_7viOq7d"
      },
      "source": [
        "## 🧩 Quick Start Example\n",
        "\n",
        "The following examples shows how to load RNA structures, compute PARSEbp scores, and access results."
      ]
    },
    {
      "cell_type": "code",
      "execution_count": null,
      "id": "2JcNqb_sOq7e",
      "metadata": {
        "id": "2JcNqb_sOq7e"
      },
      "outputs": [],
      "source": [
        "from PARSEbp import parsebp\n",
        "\n",
        "# Initialize PARSEbp\n",
        "p = parsebp()\n",
        "p.set_mode(1)  # scoring mode\n",
        "p.set_parallel_threads(100)\n",
        "\n",
        "# Example RNA sequence (for demonstration)\n",
        "seq = \"GGACACGAGUAACUCGUCUAUCUGCUGCAGGCUGCUUACGGUUUCGUCCGUGUUGCAGCCGAUCAUCAGAACAUCUAGGUUUCGUCCGGGUGUUACCGAAAGGUCAGAUGGAGAGCCUUGUCCC\"\n",
        "p.set_target_sequnece(seq)"
      ]
    },
    {
      "cell_type": "markdown",
      "id": "b9ef14ab",
      "metadata": {
        "id": "b9ef14ab"
      },
      "source": [
        "## set_mode()\n",
        "This function takes one argument. If you provide 1 (default), it will score the pdbs based on pairwise TM-score similarity weighted by pairwise INF scores to emphasize on base pairings.\n",
        "If you provide 0, it will only consider pairwise TM-score similarity to score the pdb files."
      ]
    },
    {
      "cell_type": "markdown",
      "id": "253b2f04",
      "metadata": {
        "id": "253b2f04"
      },
      "source": [
        "## set_parallel_threads()\n",
        "Set the number of threads for parallel pairwise score computations. Default value is 50."
      ]
    },
    {
      "cell_type": "markdown",
      "id": "90086adb",
      "metadata": {
        "id": "90086adb"
      },
      "source": [
        "## set_target_sequnece()\n",
        "If you set target sequence to \"\", then all PDB files specified in the input directory will be scored.\n",
        "Otherwise, if you set a specific sequence, then only the PDBs that exactly match the target sequence will be scored."
      ]
    },
    {
      "cell_type": "code",
      "execution_count": null,
      "id": "e53e9538",
      "metadata": {
        "id": "e53e9538"
      },
      "outputs": [],
      "source": [
        "# Load a directory containing RNA 3D structures (.pdb files)\n",
        "p.load_pdbs(\"Inputs\")"
      ]
    },
    {
      "cell_type": "code",
      "execution_count": null,
      "id": "5e158e27",
      "metadata": {
        "id": "5e158e27"
      },
      "outputs": [],
      "source": [
        "# Compute scores\n",
        "score = p.score()"
      ]
    },
    {
      "cell_type": "code",
      "execution_count": null,
      "id": "48869da1",
      "metadata": {
        "id": "48869da1"
      },
      "outputs": [],
      "source": [
        "# Save all results\n",
        "score.save(\"score.txt\")"
      ]
    },
    {
      "cell_type": "markdown",
      "id": "ac8a0975",
      "metadata": {
        "id": "ac8a0975"
      },
      "source": [
        "## Output Explanation\n",
        "\n",
        "After running, PARSEbp generates a file named **`score.txt`** (provided as argument), which contains predicted quality scores for each decoy structure.\n",
        "\n",
        "| Decoy | Score |\n",
        "|:------|:------|\n",
        "| decoy_1.pdb | 0.812 |\n",
        "| decoy_2.pdb | 0.793 |\n",
        "| ... | ... |\n",
        "\n",
        "### ⏱ Performance\n",
        "- Scoring a typical RNA (~100 nucleotides) with ~200 decoys takes **≈30 seconds** using 50 threads."
      ]
    },
    {
      "cell_type": "markdown",
      "id": "0fd5aba5",
      "metadata": {
        "id": "0fd5aba5"
      },
      "source": [
        "## 📊 Accessing and Analyzing Results\n",
        "\n",
        "You can retrieve individual or top-ranked scores directly from the `score` object."
      ]
    },
    {
      "cell_type": "markdown",
      "id": "b8d6a3e7",
      "metadata": {
        "id": "b8d6a3e7"
      },
      "source": [
        "### Get score for a specific 3D structure"
      ]
    },
    {
      "cell_type": "code",
      "execution_count": null,
      "id": "h53f_MrgOq7h",
      "metadata": {
        "id": "h53f_MrgOq7h"
      },
      "outputs": [],
      "source": [
        "\n",
        "pred_score = score.getScore(\"decoy_1.pdb\")"
      ]
    },
    {
      "cell_type": "markdown",
      "id": "7bdea0b8",
      "metadata": {
        "id": "7bdea0b8"
      },
      "source": [
        "### Get the top ranked pdb and the corresponding score using top1()\n",
        "Returns a list of decoy names (multiple decoys if there is a tie) and the top score."
      ]
    },
    {
      "cell_type": "code",
      "execution_count": null,
      "id": "bea3e902",
      "metadata": {
        "id": "bea3e902"
      },
      "outputs": [],
      "source": [
        "# Get top-1 ranked model(s)\n",
        "pdbnames, top_score = score.top1()"
      ]
    },
    {
      "cell_type": "markdown",
      "id": "6e1adf83",
      "metadata": {
        "id": "6e1adf83"
      },
      "source": [
        "### Get top N ranked decoys and their corresponding scores using topN(N)\n",
        "Takes one argument as input - N: number of top structures to return\n",
        "Returns a dictionary of the top N scoring decoys and their predicted scores sorted by descending order of scores"
      ]
    },
    {
      "cell_type": "code",
      "execution_count": null,
      "id": "2bf191d3",
      "metadata": {
        "id": "2bf191d3"
      },
      "outputs": [],
      "source": [
        "# Get top-N ranked decoys\n",
        "top_scored_dict = score.topN(3)"
      ]
    },
    {
      "cell_type": "markdown",
      "id": "Jj8Q3_kVOq7j",
      "metadata": {
        "id": "Jj8Q3_kVOq7j"
      },
      "source": [
        "## Summary\n",
        "\n",
        "PARSEbp offers a fast and accurate multi-model QA method for RNA 3D structure quality assessment based on pairwise base pair agreement. It is particularly useful for:\n",
        "- Ranking RNA 3D decoys from prediction pipelines.\n",
        "- Evaluating ensemble quality in RNA folding studies.\n",
        "- Benchmarking or CASP-style assessments.\n",
        "\n",
        "For detailed documentation, visit: [https://github.com/Bhattacharya-Lab/PARSEbp](https://github.com/Bhattacharya-Lab/PARSEbp)"
      ]
    }
  ],
  "metadata": {
    "colab": {
      "provenance": []
    },
    "kernelspec": {
      "display_name": "Python 3",
      "name": "python3"
    },
    "language_info": {
      "name": "python"
    }
  },
  "nbformat": 4,
  "nbformat_minor": 5
}
